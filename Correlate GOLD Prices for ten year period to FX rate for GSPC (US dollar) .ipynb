{
 "cells": [
  {
   "cell_type": "code",
   "execution_count": null,
   "id": "5b322059-0142-477e-be4f-11fc3517ff58",
   "metadata": {},
   "outputs": [],
   "source": [
    "#Import necessary libraries\n",
    "import pandas as pd\n",
    "import numpy as np\n",
    "import matplotlib.pyplot as plt\n",
    "\n",
    "#Load the data into Pandas DataFrame\n",
    "gold_prices_df = pd.read_csv('gold_prices.csv')\n",
    "fx_rate_df = pd.read_csv('fx_rate_gspc.csv')\n",
    "\n",
    "#Clean the data and merge the two DataFrames \n",
    "gold_prices_df = gold_prices_df.dropna()\n",
    "fx_rate_df = fx_rate_df.dropna()\n",
    "\n",
    "merged_df = pd.merge(gold_prices_df, fx_rate_df, on='date', how='inner')\n",
    "\n",
    "#Calculate the average gold price and FX rate for GSPC for each year\n",
    "merged_df['year'] = pd.DatetimeIndex(merged_df['date']).year\n",
    "avg_gold_prices_df = merged_df.groupby('year')['gold_price'].mean().reset_index()\n",
    "avg_fx_rate_df = merged_df.groupby('year')['fx_rate'].mean().reset_index()\n",
    "\n",
    "#Use a scatter plot to visualize the relationship between gold prices and the FX rate for GSPC \n",
    "plt.scatter(avg_fx_rate_df['fx_rate'], avg_gold_prices_df['gold_price'])\n",
    "plt.xlabel('FX rate for GSPC')\n",
    "plt.ylabel('Gold prices')\n",
    "plt.show()\n",
    "\n",
    "#Calculate the correlation coefficient between gold prices and the FX rate for GSPC \n",
    "correlation_coefficient = np.corrcoef(avg_fx_rate_df['fx_rate'], avg_gold_prices_df['gold_price'])[0,1]\n",
    "print('Correlation coefficient:', correlation_coefficient)"
   ]
  }
 ],
 "metadata": {
  "kernelspec": {
   "display_name": "Python 3 (ipykernel)",
   "language": "python",
   "name": "python3"
  },
  "language_info": {
   "codemirror_mode": {
    "name": "ipython",
    "version": 3
   },
   "file_extension": ".py",
   "mimetype": "text/x-python",
   "name": "python",
   "nbconvert_exporter": "python",
   "pygments_lexer": "ipython3",
   "version": "3.9.13"
  }
 },
 "nbformat": 4,
 "nbformat_minor": 5
}
