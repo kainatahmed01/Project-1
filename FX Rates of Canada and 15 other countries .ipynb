{
 "cells": [
  {
   "cell_type": "code",
   "execution_count": 1,
   "id": "1a24c306-3c76-451a-8a5e-df458e9f1c98",
   "metadata": {},
   "outputs": [
    {
     "name": "stdout",
     "output_type": "stream",
     "text": [
      "FX Rates for Canada and other countries (Base: USD)\n",
      "-------------------------------------------------\n",
      "1 USD = 1.337865 CAD\n",
      "1 USD = 0.910131 EUR\n",
      "1 USD = 0.806111 GBP\n",
      "1 USD = 133.765 JPY\n",
      "1 USD = 1.492963 AUD\n",
      "1 USD = 0.894919 CHF\n",
      "1 USD = 6.8715 CNY\n",
      "1 USD = 7.849971 HKD\n",
      "1 USD = 14790.657622 IDR\n",
      "1 USD = 81.879104 INR\n",
      "1 USD = 1305.490949 KRW\n",
      "1 USD = 18.028825 MXN\n",
      "1 USD = 4.402 MYR\n",
      "1 USD = 1.612477 NZD\n",
      "1 USD = 55.3065 PHP\n",
      "1 USD = 1.331578 SGD\n",
      "1 USD = 34.383 THB\n"
     ]
    }
   ],
   "source": [
    "import requests\n",
    "\n",
    "# Define API endpoint and parameters\n",
    "endpoint = \"https://openexchangerates.org/api/latest.json\"\n",
    "params = {\n",
    "    \"app_id\": \"d7ab784b19b841cdbe4b5b0ef307dbcc\",\n",
    "    \"symbols\": \"CAD,EUR,GBP,JPY,AUD,CHF,CNY,HKD,IDR,INR,KRW,MXN,MYR,NZD,PHP,SGD,THB\",\n",
    "}\n",
    "\n",
    "# Send request to API and parse response\n",
    "response = requests.get(endpoint, params=params)\n",
    "if response.status_code == 200:\n",
    "    data = response.json()\n",
    "    # Print the rates for CAD and other currencies\n",
    "    print(\"FX Rates for Canada and other countries (Base: USD)\")\n",
    "    print(\"-------------------------------------------------\")\n",
    "    print(f\"1 USD = {data['rates']['CAD']} CAD\")\n",
    "    print(f\"1 USD = {data['rates']['EUR']} EUR\")\n",
    "    print(f\"1 USD = {data['rates']['GBP']} GBP\")\n",
    "    print(f\"1 USD = {data['rates']['JPY']} JPY\")\n",
    "    print(f\"1 USD = {data['rates']['AUD']} AUD\")\n",
    "    print(f\"1 USD = {data['rates']['CHF']} CHF\")\n",
    "    print(f\"1 USD = {data['rates']['CNY']} CNY\")\n",
    "    print(f\"1 USD = {data['rates']['HKD']} HKD\")\n",
    "    print(f\"1 USD = {data['rates']['IDR']} IDR\")\n",
    "    print(f\"1 USD = {data['rates']['INR']} INR\")\n",
    "    print(f\"1 USD = {data['rates']['KRW']} KRW\")\n",
    "    print(f\"1 USD = {data['rates']['MXN']} MXN\")\n",
    "    print(f\"1 USD = {data['rates']['MYR']} MYR\")\n",
    "    print(f\"1 USD = {data['rates']['NZD']} NZD\")\n",
    "    print(f\"1 USD = {data['rates']['PHP']} PHP\")\n",
    "    print(f\"1 USD = {data['rates']['SGD']} SGD\")\n",
    "    print(f\"1 USD = {data['rates']['THB']} THB\")\n",
    "else:\n",
    "    print(f\"Error fetching FX rates: {response.text}\")\n"
   ]
  },
  {
   "cell_type": "code",
   "execution_count": null,
   "id": "b1757332-1849-4517-8311-f93dd304ba40",
   "metadata": {},
   "outputs": [],
   "source": []
  }
 ],
 "metadata": {
  "kernelspec": {
   "display_name": "Python 3 (ipykernel)",
   "language": "python",
   "name": "python3"
  },
  "language_info": {
   "codemirror_mode": {
    "name": "ipython",
    "version": 3
   },
   "file_extension": ".py",
   "mimetype": "text/x-python",
   "name": "python",
   "nbconvert_exporter": "python",
   "pygments_lexer": "ipython3",
   "version": "3.9.13"
  }
 },
 "nbformat": 4,
 "nbformat_minor": 5
}
