{
 "cells": [
  {
   "cell_type": "code",
   "execution_count": 2,
   "id": "899cb302-b7e4-4269-97e0-8cc484fc0ddc",
   "metadata": {},
   "outputs": [
    {
     "name": "stdout",
     "output_type": "stream",
     "text": [
      "Error fetching FX rates: {\"error\":true,\"status\":403,\"message\":\"not_allowed\",\"description\":\"Time-series (date-range) API queries are only available for Enterprise/Unlimited Plan clients - please contact support@openexchangerates.org to upgrade your account.\"}\n",
      "\n"
     ]
    },
    {
     "ename": "NameError",
     "evalue": "name 'data' is not defined",
     "output_type": "error",
     "traceback": [
      "\u001b[1;31m---------------------------------------------------------------------------\u001b[0m",
      "\u001b[1;31mNameError\u001b[0m                                 Traceback (most recent call last)",
      "\u001b[1;32m~\\AppData\\Local\\Temp\\ipykernel_16516\\3442593458.py\u001b[0m in \u001b[0;36m<module>\u001b[1;34m\u001b[0m\n\u001b[0;32m     19\u001b[0m \u001b[1;33m\u001b[0m\u001b[0m\n\u001b[0;32m     20\u001b[0m \u001b[1;31m# Convert response to pandas DataFrame\u001b[0m\u001b[1;33m\u001b[0m\u001b[1;33m\u001b[0m\u001b[0m\n\u001b[1;32m---> 21\u001b[1;33m \u001b[0mdf\u001b[0m \u001b[1;33m=\u001b[0m \u001b[0mpd\u001b[0m\u001b[1;33m.\u001b[0m\u001b[0mDataFrame\u001b[0m\u001b[1;33m.\u001b[0m\u001b[0mfrom_dict\u001b[0m\u001b[1;33m(\u001b[0m\u001b[0mdata\u001b[0m\u001b[1;33m[\u001b[0m\u001b[1;34m'rates'\u001b[0m\u001b[1;33m]\u001b[0m\u001b[1;33m,\u001b[0m \u001b[0morient\u001b[0m\u001b[1;33m=\u001b[0m\u001b[1;34m'index'\u001b[0m\u001b[1;33m)\u001b[0m\u001b[1;33m\u001b[0m\u001b[1;33m\u001b[0m\u001b[0m\n\u001b[0m\u001b[0;32m     22\u001b[0m \u001b[1;33m\u001b[0m\u001b[0m\n\u001b[0;32m     23\u001b[0m \u001b[1;31m# Convert index to datetime\u001b[0m\u001b[1;33m\u001b[0m\u001b[1;33m\u001b[0m\u001b[0m\n",
      "\u001b[1;31mNameError\u001b[0m: name 'data' is not defined"
     ]
    }
   ],
   "source": [
    "import requests\n",
    "import pandas as pd\n",
    "\n",
    "# Define API endpoint and parameters\n",
    "endpoint = \"https://openexchangerates.org/api/time-series.json\"\n",
    "params = {\n",
    "    \"app_id\": \"d7ab784b19b841cdbe4b5b0ef307dbcc\",\n",
    "    \"start_at\": \"2013-04-14\",\n",
    "    \"end_at\": \"2023-04-14\",\n",
    "    \"symbols\": \"CAD,EUR,GBP,JPY,AUD,CHF,CNY,HKD,IDR,INR,KRW,MXN,MYR,NZD,PHP,SGD,THB\",\n",
    "}\n",
    "\n",
    "# Send request to API and parse response\n",
    "response = requests.get(endpoint, params=params)\n",
    "if response.status_code == 200:\n",
    "    data = response.json()\n",
    "else:\n",
    "    print(f\"Error fetching FX rates: {response.text}\")\n",
    "\n",
    "# Convert response to pandas DataFrame\n",
    "df = pd.DataFrame.from_dict(data['rates'], orient='index')\n",
    "\n",
    "# Convert index to datetime\n",
    "df.index = pd.to_datetime(df.index)\n",
    "\n",
    "# Rename columns to ISO 4217 currency codes\n",
    "df.columns = ['CAD', 'EUR', 'GBP', 'JPY', 'AUD', 'CHF', 'CNY', 'HKD', 'IDR', 'INR', 'KRW', 'MXN', 'MYR', 'NZD', 'PHP', 'SGD', 'THB']\n",
    "\n",
    "# Reindex DataFrame to fill missing dates with NaN values\n",
    "date_range = pd.date_range(start='2013-04-14', end='2023-04-14', freq='D')\n",
    "df = df.reindex(date_range)\n",
    "\n",
    "# Forward fill missing values\n",
    "df = df.ffill()\n",
    "\n",
    "# Aggregate data by currency\n",
    "mean_rates = df.mean()\n",
    "std_rates = df.std()\n"
   ]
  },
  {
   "cell_type": "code",
   "execution_count": null,
   "id": "d8ac319e-9d17-4ca3-943e-f01f64a623a4",
   "metadata": {},
   "outputs": [],
   "source": []
  }
 ],
 "metadata": {
  "kernelspec": {
   "display_name": "Python 3 (ipykernel)",
   "language": "python",
   "name": "python3"
  },
  "language_info": {
   "codemirror_mode": {
    "name": "ipython",
    "version": 3
   },
   "file_extension": ".py",
   "mimetype": "text/x-python",
   "name": "python",
   "nbconvert_exporter": "python",
   "pygments_lexer": "ipython3",
   "version": "3.9.13"
  }
 },
 "nbformat": 4,
 "nbformat_minor": 5
}
