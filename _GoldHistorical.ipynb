{
 "cells": [
  {
   "cell_type": "code",
   "execution_count": null,
   "id": "632406ab-d9a1-4752-aa08-530939d6b638",
   "metadata": {},
   "outputs": [],
   "source": [
    "# Historical Gold Prices (USA)"
   ]
  },
  {
   "cell_type": "code",
   "execution_count": null,
   "id": "d2e17b6e-39ee-4597-a36b-19d10614e7ae",
   "metadata": {},
   "outputs": [],
   "source": [
    "import os\n",
    "import pandas as pd\n",
    "import requests\n",
    "import datetime\n",
    "import calendar\n",
    "from eod import EodHistoricalData\n",
    "from dotenv import load_dotenv\n",
    "\n",
    "\n",
    "load_dotenv()\n",
    "api_key = os.getenv(\"EOD_API_KEY\")\n",
    "client = EodHistoricalData(api_key)"
   ]
  },
  {
   "cell_type": "code",
   "execution_count": null,
   "id": "62cca1d3-d4f7-43aa-86ce-13a6c42faab1",
   "metadata": {},
   "outputs": [],
   "source": [
    "ticker = \"XAUUSD.FOREX\"\n",
    "start_date = \"2001-01-01\" \n",
    "end_date = \"2023-04-12\"\n",
    "\n",
    "gold_response = client.get_prices_eod(ticker, period = 'd', from_ = start_date, to = end_date, order = 'a')\n",
    "gold_data = pd.DataFrame(gold_response)\n",
    "gold_data = gold_data.set_index('date')\n",
    "gold_data = gold_data[['close']]\n",
    "gold_data = gold_data.rename(columns={\"close\":\"GOLD\"})\n",
    "gold_data = gold_data.dropna()\n",
    "gold_data = gold_data.pct_change()\n",
    "display(gold_data)"
   ]
  }
 ],
 "metadata": {
  "kernelspec": {
   "display_name": "Python 3 (ipykernel)",
   "language": "python",
   "name": "python3"
  },
  "language_info": {
   "codemirror_mode": {
    "name": "ipython",
    "version": 3
   },
   "file_extension": ".py",
   "mimetype": "text/x-python",
   "name": "python",
   "nbconvert_exporter": "python",
   "pygments_lexer": "ipython3",
   "version": "3.9.13"
  }
 },
 "nbformat": 4,
 "nbformat_minor": 5
}
