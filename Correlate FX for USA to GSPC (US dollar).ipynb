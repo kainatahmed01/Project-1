{
 "cells": [
  {
   "cell_type": "code",
   "execution_count": null,
   "id": "02ff036d-25e8-4cf7-a6b0-270359f7259b",
   "metadata": {},
   "outputs": [],
   "source": [
    "#Import necessary libraries\n",
    "import pandas as pd\n",
    "import numpy as np\n",
    "import matplotlib.pyplot as plt\n",
    "\n",
    "#Load the data into Pandas DataFrame \n",
    "fx_usa_df = pd.read_csv('path/to/fx/usa.csv')\n",
    "gspc_usd_df = pd.read_csv('path/to/gspc/usd.csv')\n",
    "\n",
    "#Clean the data and merge the two DataFrames \n",
    "fx_usa_df = fx_usa_df.dropna()\n",
    "gspc_usd_df = gspc_usd_df.dropna()\n",
    "\n",
    "merged_df = pd.merge(fx_usa_df, gspc_usd_df, on='date', how='inner')\n",
    "\n",
    "#Use a scatter plot to visualize the relationship between FX rate for USA and GSPC in US dollars \n",
    "plt.scatter(merged_df['fx_rate'], merged_df['gspc'])\n",
    "plt.xlabel('FX rate for USA')\n",
    "plt.ylabel('GSPC in USD')\n",
    "plt.show()\n",
    "\n",
    "#Calculate the correlation coefficient between FX rate for USA and GSPC in US dollars\n",
    "correlation_coefficient = np.corrcoef(merged_df['fx_rate'], merged_df['gspc'])[0,1]\n",
    "print('Correlation coefficient:', correlation_coefficient)\n"
   ]
  }
 ],
 "metadata": {
  "kernelspec": {
   "display_name": "Python 3 (ipykernel)",
   "language": "python",
   "name": "python3"
  },
  "language_info": {
   "codemirror_mode": {
    "name": "ipython",
    "version": 3
   },
   "file_extension": ".py",
   "mimetype": "text/x-python",
   "name": "python",
   "nbconvert_exporter": "python",
   "pygments_lexer": "ipython3",
   "version": "3.9.13"
  }
 },
 "nbformat": 4,
 "nbformat_minor": 5
}
