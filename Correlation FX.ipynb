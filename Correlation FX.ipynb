{
 "cells": [
  {
   "cell_type": "code",
   "execution_count": null,
   "id": "475e4bcd-4276-4e48-8156-fa6c9e5158ec",
   "metadata": {},
   "outputs": [],
   "source": [
    "\n",
    "#Create a visualization of  FX daily EOD price  pct_change over a ten year period for the following currencies:\n",
    "\n",
    "#Correlate FX for USA to GSPC (US dollar)\n",
    "\n",
    "#Correlate FX for USA to IBOV (Brazil Real)\n",
    "\n",
    "#Correlate FX for USA to OBX (Norway Krone)\n",
    "\n",
    "#Correlate FX for USA to NIFTYPSE (India Rupee)\n",
    "\n"
   ]
  },
  {
   "cell_type": "code",
   "execution_count": 11,
   "id": "18aa0f05-0443-4168-b49e-ea04e99ac9a9",
   "metadata": {},
   "outputs": [
    {
     "name": "stdout",
     "output_type": "stream",
     "text": [
      "Requirement already satisfied: eod in /Users/kainat/opt/anaconda3/envs/dev/lib/python3.7/site-packages (0.2.1)\n",
      "Requirement already satisfied: requests in /Users/kainat/opt/anaconda3/envs/dev/lib/python3.7/site-packages (from eod) (2.28.1)\n",
      "Requirement already satisfied: numpy in /Users/kainat/opt/anaconda3/envs/dev/lib/python3.7/site-packages (from eod) (1.21.5)\n",
      "Requirement already satisfied: pandas in /Users/kainat/opt/anaconda3/envs/dev/lib/python3.7/site-packages (from eod) (1.3.5)\n",
      "Requirement already satisfied: python-dateutil>=2.7.3 in /Users/kainat/opt/anaconda3/envs/dev/lib/python3.7/site-packages (from pandas->eod) (2.8.2)\n",
      "Requirement already satisfied: pytz>=2017.3 in /Users/kainat/opt/anaconda3/envs/dev/lib/python3.7/site-packages (from pandas->eod) (2022.1)\n",
      "Requirement already satisfied: certifi>=2017.4.17 in /Users/kainat/opt/anaconda3/envs/dev/lib/python3.7/site-packages (from requests->eod) (2022.9.24)\n",
      "Requirement already satisfied: urllib3<1.27,>=1.21.1 in /Users/kainat/opt/anaconda3/envs/dev/lib/python3.7/site-packages (from requests->eod) (1.26.11)\n",
      "Requirement already satisfied: charset-normalizer<3,>=2 in /Users/kainat/opt/anaconda3/envs/dev/lib/python3.7/site-packages (from requests->eod) (2.0.4)\n",
      "Requirement already satisfied: idna<4,>=2.5 in /Users/kainat/opt/anaconda3/envs/dev/lib/python3.7/site-packages (from requests->eod) (3.3)\n",
      "Requirement already satisfied: six>=1.5 in /Users/kainat/opt/anaconda3/envs/dev/lib/python3.7/site-packages (from python-dateutil>=2.7.3->pandas->eod) (1.16.0)\n",
      "Requirement already satisfied: python-dotenv in /Users/kainat/opt/anaconda3/envs/dev/lib/python3.7/site-packages (0.21.1)\n",
      "Requirement already satisfied: eod in /Users/kainat/opt/anaconda3/envs/dev/lib/python3.7/site-packages (0.2.1)\n",
      "Requirement already satisfied: hvplot in /Users/kainat/opt/anaconda3/envs/dev/lib/python3.7/site-packages (0.8.0)\n",
      "Requirement already satisfied: pandas in /Users/kainat/opt/anaconda3/envs/dev/lib/python3.7/site-packages (from eod) (1.3.5)\n",
      "Requirement already satisfied: requests in /Users/kainat/opt/anaconda3/envs/dev/lib/python3.7/site-packages (from eod) (2.28.1)\n",
      "Requirement already satisfied: numpy in /Users/kainat/opt/anaconda3/envs/dev/lib/python3.7/site-packages (from eod) (1.21.5)\n",
      "Requirement already satisfied: bokeh>=1.0.0 in /Users/kainat/opt/anaconda3/envs/dev/lib/python3.7/site-packages (from hvplot) (2.4.3)\n",
      "Requirement already satisfied: packaging in /Users/kainat/opt/anaconda3/envs/dev/lib/python3.7/site-packages (from hvplot) (21.3)\n",
      "Requirement already satisfied: holoviews>=1.11.0 in /Users/kainat/opt/anaconda3/envs/dev/lib/python3.7/site-packages (from hvplot) (1.15.0)\n",
      "Requirement already satisfied: colorcet>=2 in /Users/kainat/opt/anaconda3/envs/dev/lib/python3.7/site-packages (from hvplot) (3.0.0)\n",
      "Requirement already satisfied: typing-extensions>=3.10.0 in /Users/kainat/opt/anaconda3/envs/dev/lib/python3.7/site-packages (from bokeh>=1.0.0->hvplot) (4.3.0)\n",
      "Requirement already satisfied: tornado>=5.1 in /Users/kainat/opt/anaconda3/envs/dev/lib/python3.7/site-packages (from bokeh>=1.0.0->hvplot) (6.2)\n",
      "Requirement already satisfied: Jinja2>=2.9 in /Users/kainat/opt/anaconda3/envs/dev/lib/python3.7/site-packages (from bokeh>=1.0.0->hvplot) (2.11.3)\n",
      "Requirement already satisfied: pillow>=7.1.0 in /Users/kainat/opt/anaconda3/envs/dev/lib/python3.7/site-packages (from bokeh>=1.0.0->hvplot) (9.2.0)\n",
      "Requirement already satisfied: PyYAML>=3.10 in /Users/kainat/opt/anaconda3/envs/dev/lib/python3.7/site-packages (from bokeh>=1.0.0->hvplot) (6.0)\n",
      "Requirement already satisfied: pyct>=0.4.4 in /Users/kainat/opt/anaconda3/envs/dev/lib/python3.7/site-packages (from colorcet>=2->hvplot) (0.4.8)\n",
      "Requirement already satisfied: param>=1.7.0 in /Users/kainat/opt/anaconda3/envs/dev/lib/python3.7/site-packages (from colorcet>=2->hvplot) (1.12.0)\n",
      "Requirement already satisfied: panel>=0.13.1 in /Users/kainat/opt/anaconda3/envs/dev/lib/python3.7/site-packages (from holoviews>=1.11.0->hvplot) (0.13.1)\n",
      "Requirement already satisfied: pyviz-comms>=0.7.4 in /Users/kainat/opt/anaconda3/envs/dev/lib/python3.7/site-packages (from holoviews>=1.11.0->hvplot) (2.0.2)\n",
      "Requirement already satisfied: pyparsing!=3.0.5,>=2.0.2 in /Users/kainat/opt/anaconda3/envs/dev/lib/python3.7/site-packages (from packaging->hvplot) (3.0.9)\n",
      "Requirement already satisfied: python-dateutil>=2.7.3 in /Users/kainat/opt/anaconda3/envs/dev/lib/python3.7/site-packages (from pandas->eod) (2.8.2)\n",
      "Requirement already satisfied: pytz>=2017.3 in /Users/kainat/opt/anaconda3/envs/dev/lib/python3.7/site-packages (from pandas->eod) (2022.1)\n",
      "Requirement already satisfied: charset-normalizer<3,>=2 in /Users/kainat/opt/anaconda3/envs/dev/lib/python3.7/site-packages (from requests->eod) (2.0.4)\n",
      "Requirement already satisfied: certifi>=2017.4.17 in /Users/kainat/opt/anaconda3/envs/dev/lib/python3.7/site-packages (from requests->eod) (2022.9.24)\n",
      "Requirement already satisfied: idna<4,>=2.5 in /Users/kainat/opt/anaconda3/envs/dev/lib/python3.7/site-packages (from requests->eod) (3.3)\n",
      "Requirement already satisfied: urllib3<1.27,>=1.21.1 in /Users/kainat/opt/anaconda3/envs/dev/lib/python3.7/site-packages (from requests->eod) (1.26.11)\n",
      "Requirement already satisfied: MarkupSafe>=0.23 in /Users/kainat/opt/anaconda3/envs/dev/lib/python3.7/site-packages (from Jinja2>=2.9->bokeh>=1.0.0->hvplot) (2.0.1)\n",
      "Requirement already satisfied: tqdm>=4.48.0 in /Users/kainat/opt/anaconda3/envs/dev/lib/python3.7/site-packages (from panel>=0.13.1->holoviews>=1.11.0->hvplot) (4.64.1)\n",
      "Requirement already satisfied: markdown in /Users/kainat/opt/anaconda3/envs/dev/lib/python3.7/site-packages (from panel>=0.13.1->holoviews>=1.11.0->hvplot) (3.3.4)\n",
      "Requirement already satisfied: bleach in /Users/kainat/opt/anaconda3/envs/dev/lib/python3.7/site-packages (from panel>=0.13.1->holoviews>=1.11.0->hvplot) (4.1.0)\n",
      "Requirement already satisfied: setuptools in /Users/kainat/opt/anaconda3/envs/dev/lib/python3.7/site-packages (from panel>=0.13.1->holoviews>=1.11.0->hvplot) (63.4.1)\n",
      "Requirement already satisfied: six>=1.5 in /Users/kainat/opt/anaconda3/envs/dev/lib/python3.7/site-packages (from python-dateutil>=2.7.3->pandas->eod) (1.16.0)\n",
      "Requirement already satisfied: webencodings in /Users/kainat/opt/anaconda3/envs/dev/lib/python3.7/site-packages (from bleach->panel>=0.13.1->holoviews>=1.11.0->hvplot) (0.5.1)\n",
      "Requirement already satisfied: importlib-metadata in /Users/kainat/opt/anaconda3/envs/dev/lib/python3.7/site-packages (from markdown->panel>=0.13.1->holoviews>=1.11.0->hvplot) (3.10.0)\n",
      "Requirement already satisfied: zipp>=0.5 in /Users/kainat/opt/anaconda3/envs/dev/lib/python3.7/site-packages (from importlib-metadata->markdown->panel>=0.13.1->holoviews>=1.11.0->hvplot) (3.8.0)\n"
     ]
    }
   ],
   "source": [
    "!pip install eod\n",
    "!pip install python-dotenv\n",
    "!pip install eod hvplot"
   ]
  },
  {
   "cell_type": "code",
   "execution_count": 15,
   "id": "f7b93537-ed20-4cd0-ae8f-d5c78a38e085",
   "metadata": {},
   "outputs": [],
   "source": [
    "import os\n",
    "import pandas as pd\n",
    "import requests\n",
    "import datetime\n",
    "import calendar\n",
    "import hvplot.pandas\n",
    "from eod import EodHistoricalData\n",
    "from dotenv import load_dotenv\n",
    "\n",
    "\n",
    "# Creating a variable that holds the API key\n",
    "load_dotenv()\n",
    "api_key = os.getenv(\"EOD_API_KEY\")\n",
    "client = EodHistoricalData(api_key)"
   ]
  },
  {
   "cell_type": "code",
   "execution_count": 18,
   "id": "c97dc38c-0def-43e6-a5c7-ae387ee8b573",
   "metadata": {},
   "outputs": [
    {
     "ename": "AttributeError",
     "evalue": "'EodHistoricalData' object has no attribute 'get_data'",
     "output_type": "error",
     "traceback": [
      "\u001b[0;31m---------------------------------------------------------------------------\u001b[0m",
      "\u001b[0;31mAttributeError\u001b[0m                            Traceback (most recent call last)",
      "\u001b[0;32m/var/folders/bv/bjg_2tj90893sfs5qcg53s540000gp/T/ipykernel_64640/3058447871.py\u001b[0m in \u001b[0;36m<module>\u001b[0;34m\u001b[0m\n\u001b[1;32m     11\u001b[0m \u001b[0;32mfor\u001b[0m \u001b[0mpair\u001b[0m \u001b[0;32min\u001b[0m \u001b[0mcurrency_pairs\u001b[0m\u001b[0;34m:\u001b[0m\u001b[0;34m\u001b[0m\u001b[0;34m\u001b[0m\u001b[0m\n\u001b[1;32m     12\u001b[0m     \u001b[0;32mfor\u001b[0m \u001b[0mindex\u001b[0m \u001b[0;32min\u001b[0m \u001b[0mstock_indexes\u001b[0m\u001b[0;34m:\u001b[0m\u001b[0;34m\u001b[0m\u001b[0;34m\u001b[0m\u001b[0m\n\u001b[0;32m---> 13\u001b[0;31m         \u001b[0mfx_data\u001b[0m \u001b[0;34m=\u001b[0m \u001b[0mclient\u001b[0m\u001b[0;34m.\u001b[0m\u001b[0mget_data\u001b[0m\u001b[0;34m(\u001b[0m\u001b[0mpair\u001b[0m\u001b[0;34m,\u001b[0m \u001b[0mstart_date\u001b[0m\u001b[0;34m=\u001b[0m\u001b[0mstart_date\u001b[0m\u001b[0;34m,\u001b[0m \u001b[0mend_date\u001b[0m\u001b[0;34m=\u001b[0m\u001b[0mend_date\u001b[0m\u001b[0;34m,\u001b[0m \u001b[0minterval\u001b[0m\u001b[0;34m=\u001b[0m\u001b[0;34m'd'\u001b[0m\u001b[0;34m)\u001b[0m\u001b[0;34m\u001b[0m\u001b[0;34m\u001b[0m\u001b[0m\n\u001b[0m\u001b[1;32m     14\u001b[0m         \u001b[0mindex_data\u001b[0m \u001b[0;34m=\u001b[0m \u001b[0mclient\u001b[0m\u001b[0;34m.\u001b[0m\u001b[0mget_data\u001b[0m\u001b[0;34m(\u001b[0m\u001b[0mindex\u001b[0m\u001b[0;34m,\u001b[0m \u001b[0mstart_date\u001b[0m\u001b[0;34m=\u001b[0m\u001b[0mstart_date\u001b[0m\u001b[0;34m,\u001b[0m \u001b[0mend_date\u001b[0m\u001b[0;34m=\u001b[0m\u001b[0mend_date\u001b[0m\u001b[0;34m,\u001b[0m \u001b[0minterval\u001b[0m\u001b[0;34m=\u001b[0m\u001b[0;34m'd'\u001b[0m\u001b[0;34m)\u001b[0m\u001b[0;34m\u001b[0m\u001b[0;34m\u001b[0m\u001b[0m\n\u001b[1;32m     15\u001b[0m \u001b[0;34m\u001b[0m\u001b[0m\n",
      "\u001b[0;31mAttributeError\u001b[0m: 'EodHistoricalData' object has no attribute 'get_data'"
     ]
    }
   ],
   "source": [
    "\n",
    "# Define the currency pairs and stock market index\n",
    "currency_pairs = ['USD/BRL', 'USD/NOK', 'USD/INR']\n",
    "stock_indexes = ['GSPC', 'IBOV', 'OBX', 'NIFTYPSE']\n",
    "\n",
    "# Set the start and end date for the historical data\n",
    "start_date = datetime.datetime.now() - datetime.timedelta(days=10*365)\n",
    "end_date = datetime.datetime.now()\n",
    "\n",
    "# Retrieve the historical data for each currency pair and stock market index\n",
    "dfs = []\n",
    "for pair in currency_pairs:\n",
    "    for index in stock_indexes:\n",
    "        fx_data = client.get_data(pair, start_date=start_date, end_date=end_date, interval='d')\n",
    "        index_data = client.get_data(index, start_date=start_date, end_date=end_date, interval='d')\n",
    "        \n",
    "        # Calculate the daily percent change for both the currency pair and the stock market index\n",
    "        fx_data['pct_change'] = fx_data['close'].pct_change()\n",
    "        index_data['pct_change'] = index_data['close'].pct_change()\n",
    "        \n",
    "        # Merge the dataframes on the date column\n",
    "        merged_df = pd.merge(fx_data[['date', 'pct_change']], index_data[['date', 'pct_change']], on='date', suffixes=('_'+pair, '_'+index))\n",
    "        dfs.append(merged_df)\n",
    "\n",
    "# Merge the dataframes for all currency pairs and stock market indexes\n",
    "merged_dfs = pd.concat(dfs, axis=1)\n",
    "\n",
    "# Create scatterplots for USD vs each stock market index\n",
    "merged_dfs.hvplot.scatter(x='pct_change_USD/BRL', y='pct_change_GSPC', xlabel='USD/BRL Daily % Change', ylabel='GSPC Daily % Change') + \\\n",
    "merged_dfs.hvplot.scatter(x='pct_change_USD/BRL', y='pct_change_IBOV', xlabel='USD/BRL Daily % Change', ylabel='IBOV Daily % Change') + \\\n",
    "merged_dfs.hvplot.scatter(x='pct_change_USD/NOK', y='pct_change_OBX', xlabel='USD/NOK Daily % Change', ylabel='OBX Daily % Change') + \\\n",
    "merged_dfs.hvplot.scatter(x='pct_change_USD/INR', y='pct_change_NIFTYPSE', xlabel='USD/INR Daily % Change', ylabel='NIFTYPSE Daily % Change')\n"
   ]
  },
  {
   "cell_type": "code",
   "execution_count": null,
   "id": "13b65c19-8be5-4d55-a7c3-d8b4f10e5482",
   "metadata": {},
   "outputs": [],
   "source": []
  }
 ],
 "metadata": {
  "kernelspec": {
   "display_name": "Python 3 (ipykernel)",
   "language": "python",
   "name": "python3"
  },
  "language_info": {
   "codemirror_mode": {
    "name": "ipython",
    "version": 3
   },
   "file_extension": ".py",
   "mimetype": "text/x-python",
   "name": "python",
   "nbconvert_exporter": "python",
   "pygments_lexer": "ipython3",
   "version": "3.7.13"
  }
 },
 "nbformat": 4,
 "nbformat_minor": 5
}
